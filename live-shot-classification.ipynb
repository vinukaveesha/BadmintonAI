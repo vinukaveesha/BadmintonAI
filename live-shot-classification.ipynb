{
 "cells": [
  {
   "cell_type": "code",
   "execution_count": 1,
   "metadata": {},
   "outputs": [
    {
     "name": "stderr",
     "output_type": "stream",
     "text": [
      "2025-04-07 12:29:37.832061: I external/local_xla/xla/tsl/cuda/cudart_stub.cc:32] Could not find cuda drivers on your machine, GPU will not be used.\n",
      "2025-04-07 12:29:37.836024: I external/local_xla/xla/tsl/cuda/cudart_stub.cc:32] Could not find cuda drivers on your machine, GPU will not be used.\n",
      "2025-04-07 12:29:37.844752: E external/local_xla/xla/stream_executor/cuda/cuda_fft.cc:467] Unable to register cuFFT factory: Attempting to register factory for plugin cuFFT when one has already been registered\n",
      "WARNING: All log messages before absl::InitializeLog() is called are written to STDERR\n",
      "E0000 00:00:1744009177.860069   29796 cuda_dnn.cc:8579] Unable to register cuDNN factory: Attempting to register factory for plugin cuDNN when one has already been registered\n",
      "E0000 00:00:1744009177.864556   29796 cuda_blas.cc:1407] Unable to register cuBLAS factory: Attempting to register factory for plugin cuBLAS when one has already been registered\n",
      "W0000 00:00:1744009177.875553   29796 computation_placer.cc:177] computation placer already registered. Please check linkage and avoid linking the same target more than once.\n",
      "W0000 00:00:1744009177.875569   29796 computation_placer.cc:177] computation placer already registered. Please check linkage and avoid linking the same target more than once.\n",
      "W0000 00:00:1744009177.875571   29796 computation_placer.cc:177] computation placer already registered. Please check linkage and avoid linking the same target more than once.\n",
      "W0000 00:00:1744009177.875572   29796 computation_placer.cc:177] computation placer already registered. Please check linkage and avoid linking the same target more than once.\n",
      "2025-04-07 12:29:37.879045: I tensorflow/core/platform/cpu_feature_guard.cc:210] This TensorFlow binary is optimized to use available CPU instructions in performance-critical operations.\n",
      "To enable the following instructions: AVX2 FMA, in other operations, rebuild TensorFlow with the appropriate compiler flags.\n"
     ]
    }
   ],
   "source": [
    "import os\n",
    "import cv2\n",
    "import numpy as np\n",
    "import mediapipe as mp\n",
    "import tensorflow as tf\n",
    "from sklearn.model_selection import train_test_split\n",
    "from tensorflow.keras.layers import LSTM, Dense, Dropout\n",
    "from tensorflow.keras.models import Sequential\n",
    "from tqdm import tqdm"
   ]
  },
  {
   "cell_type": "code",
   "execution_count": 2,
   "metadata": {},
   "outputs": [],
   "source": [
    "os.environ['TF_CPP_MIN_LOG_LEVEL'] = '2'\n",
    "os.environ[\"OMP_NUM_THREADS\"] = \"1\"\n",
    "os.environ[\"TF_NUM_INTRAOP_THREADS\"] = \"1\"\n",
    "os.environ[\"TF_NUM_INTEROP_THREADS\"] = \"1\"\n",
    "os.environ[\"CUDA_VISIBLE_DEVICES\"] = \"-1\"\n"
   ]
  },
  {
   "cell_type": "code",
   "execution_count": 3,
   "metadata": {},
   "outputs": [],
   "source": [
    "SEQUENCE_LENGTH = 15  # 0.5s clips at 30fps\n",
    "NUM_KEYPOINTS = 33    # MediaPipe pose points\n",
    "CLASSES = ['backhand_drive','backhand_net_shot', 'forehand_clear', 'forehand_drive', 'forehand_lift', 'forehand_net_shot']"
   ]
  },
  {
   "cell_type": "code",
   "execution_count": 4,
   "metadata": {},
   "outputs": [],
   "source": [
    "# Initialize MediaPipe Pose\n",
    "mp_pose = mp.solutions.pose"
   ]
  },
  {
   "cell_type": "code",
   "execution_count": 5,
   "metadata": {},
   "outputs": [],
   "source": [
    "def process_keypoints(keypoints):\n",
    "    \"\"\"Normalize keypoints relative to hip center\"\"\"\n",
    "    keypoints = np.array(keypoints)\n",
    "    \n",
    "    # Get hip coordinates (index 23) - shape (N_frames, 2)\n",
    "    hip_coords = keypoints[:, 23*3:23*3+2]\n",
    "    \n",
    "    # Reshape for broadcasting - (N_frames, 1, 2)\n",
    "    hip_coords = hip_coords.reshape(-1, 1, 2)\n",
    "    \n",
    "    # Normalize coordinates\n",
    "    keypoints[:, 0::3] -= hip_coords[:, :, 0]  # X coordinates\n",
    "    keypoints[:, 1::3] -= hip_coords[:, :, 1]  # Y coordinates\n",
    "    \n",
    "    return keypoints"
   ]
  },
  {
   "cell_type": "code",
   "execution_count": 6,
   "metadata": {},
   "outputs": [],
   "source": [
    "def extract_keypoints(video_path):\n",
    "    \"\"\"Extract pose keypoints from video\"\"\"\n",
    "    try:\n",
    "        cap = cv2.VideoCapture(video_path)\n",
    "        if not cap.isOpened():\n",
    "            return []\n",
    "        keypoint_sequence = []\n",
    "        \n",
    "        with mp_pose.Pose(\n",
    "            min_detection_confidence=0.5,\n",
    "            min_tracking_confidence=0.5) as pose:\n",
    "            \n",
    "            while cap.isOpened():\n",
    "                ret, frame = cap.read()\n",
    "                if not ret:\n",
    "                    break\n",
    "                    \n",
    "                # Process frame\n",
    "                frame_rgb = cv2.cvtColor(frame, cv2.COLOR_BGR2RGB)\n",
    "                results = pose.process(frame_rgb)\n",
    "                \n",
    "                if results.pose_landmarks:\n",
    "                    kps = []\n",
    "                    for landmark in results.pose_landmarks.landmark:\n",
    "                        kps.extend([landmark.x, landmark.y, landmark.visibility])\n",
    "                    keypoint_sequence.append(kps)\n",
    "                else:\n",
    "                    keypoint_sequence.append([0]*(NUM_KEYPOINTS*3))  # Zero-pad missing frames\n",
    "        \n",
    "        cap.release()\n",
    "        \n",
    "        # Normalize and align sequence\n",
    "        sequence = process_keypoints(keypoint_sequence)\n",
    "        return sequence[:SEQUENCE_LENGTH]\n",
    "\n",
    "    except Exception as e:  # Now properly aligned with try\n",
    "        print(f\"Error processing {video_path}: {str(e)}\")\n",
    "        return []"
   ]
  },
  {
   "cell_type": "code",
   "execution_count": 7,
   "metadata": {},
   "outputs": [],
   "source": [
    "def build_dataset(dataset_path):\n",
    "    \"\"\"Create dataset from video directory\"\"\"\n",
    "    X, y = [], []\n",
    "    \n",
    "    for class_idx, class_name in enumerate(CLASSES):\n",
    "        class_dir = os.path.join(dataset_path, class_name)\n",
    "        if not os.path.exists(class_dir):\n",
    "            print(f\"Missing directory: {class_dir}\")\n",
    "            continue\n",
    "            \n",
    "        videos = [v for v in os.listdir(class_dir) \n",
    "                if v.endswith(('.mp4', '.avi', '.MOV'))]\n",
    "        \n",
    "        for video in tqdm(videos, desc=f'Processing {class_name}'):\n",
    "            video_path = os.path.join(class_dir, video)\n",
    "            sequence = extract_keypoints(video_path)\n",
    "            \n",
    "            # Only keep valid sequences\n",
    "            if len(sequence) == SEQUENCE_LENGTH:\n",
    "                X.append(sequence)\n",
    "                y.append(class_idx)\n",
    "                \n",
    "    return np.array(X), np.array(y)"
   ]
  },
  {
   "cell_type": "code",
   "execution_count": 8,
   "metadata": {},
   "outputs": [],
   "source": [
    "# # Build dataset\n",
    "# X, y = build_dataset('/kaggle/input/data-set-updated/data set updated')\n",
    "\n",
    "# # Train-test split\n",
    "# X_train, X_test, y_train, y_test = train_test_split(\n",
    "#     X, y, test_size=0.2, stratify=y)\n",
    "\n",
    "# # Convert labels to one-hot\n",
    "# y_train = tf.keras.utils.to_categorical(y_train)\n",
    "# y_test = tf.keras.utils.to_categorical(y_test)"
   ]
  },
  {
   "cell_type": "code",
   "execution_count": 9,
   "metadata": {},
   "outputs": [],
   "source": [
    "# # Build LSTM model\n",
    "# model = Sequential([\n",
    "#     LSTM(64, input_shape=(SEQUENCE_LENGTH, NUM_KEYPOINTS*3), return_sequences=True),\n",
    "#     Dropout(0.3),\n",
    "#     LSTM(32),\n",
    "#     Dense(32, activation='relu'),\n",
    "#     Dense(len(CLASSES), activation='softmax')\n",
    "# ])"
   ]
  },
  {
   "cell_type": "code",
   "execution_count": 10,
   "metadata": {},
   "outputs": [],
   "source": [
    "# model.compile(\n",
    "#     optimizer='adam',\n",
    "#     loss='categorical_crossentropy',\n",
    "#     metrics=['accuracy']\n",
    "# )"
   ]
  },
  {
   "cell_type": "code",
   "execution_count": 11,
   "metadata": {},
   "outputs": [],
   "source": [
    "# with tf.device('/GPU:0'):\n",
    "#     history = model.fit(\n",
    "#     X_train, y_train,\n",
    "#     validation_data=(X_test, y_test),\n",
    "#     epochs=40,\n",
    "#     batch_size=32,\n",
    "#     callbacks=[\n",
    "#         tf.keras.callbacks.EarlyStopping(patience=10, restore_best_weights=True),\n",
    "#         tf.keras.callbacks.ReduceLROnPlateau(factor=0.5, patience=3),\n",
    "#         tf.keras.callbacks.ModelCheckpoint(\n",
    "#             'pose_model.keras',\n",
    "#             save_best_only=True,\n",
    "#             monitor='val_accuracy'\n",
    "#         )\n",
    "#     ]\n",
    "# )"
   ]
  },
  {
   "cell_type": "code",
   "execution_count": 12,
   "metadata": {},
   "outputs": [],
   "source": [
    "# # Evaluation\n",
    "# loss, accuracy = model.evaluate(X_test, y_test)\n",
    "# print(f\"Test Accuracy: {accuracy*100:.2f}%\")"
   ]
  },
  {
   "cell_type": "code",
   "execution_count": null,
   "metadata": {},
   "outputs": [
    {
     "ename": "",
     "evalue": "",
     "output_type": "error",
     "traceback": [
      "\u001b[1;31mThe Kernel crashed while executing code in the current cell or a previous cell. \n",
      "\u001b[1;31mPlease review the code in the cell(s) to identify a possible cause of the failure. \n",
      "\u001b[1;31mClick <a href='https://aka.ms/vscodeJupyterKernelCrash'>here</a> for more info. \n",
      "\u001b[1;31mView Jupyter <a href='command:jupyter.viewOutput'>log</a> for further details."
     ]
    }
   ],
   "source": [
    "class PoseClassifier:\n",
    "    def __init__(self, model_path, sequence_length=15):\n",
    "        try:\n",
    "            self.model = tf.keras.models.load_model(model_path)\n",
    "        except Exception as e:\n",
    "            print(f\"Error loading model: {str(e)}\")\n",
    "            raise\n",
    "        self.sequence = []\n",
    "        self.sequence_length = sequence_length\n",
    "        self.pose = mp_pose.Pose(\n",
    "            min_detection_confidence=0.5,\n",
    "            min_tracking_confidence=0.5\n",
    "        )\n",
    "\n",
    "    def classify(self, frame):\n",
    "        frame_rgb = cv2.cvtColor(frame, cv2.COLOR_BGR2RGB)\n",
    "        results = self.pose.process(frame_rgb)\n",
    "\n",
    "        if results.pose_landmarks:\n",
    "            kps = []\n",
    "            for landmark in results.pose_landmarks.landmark:\n",
    "                kps.extend([landmark.x, landmark.y, landmark.visibility])\n",
    "            self.sequence.append(kps)\n",
    "        else:\n",
    "            self.sequence.append([0]*(NUM_KEYPOINTS*3))\n",
    "\n",
    "        # Maintain fixed sequence length\n",
    "        if len(self.sequence) > self.sequence_length:\n",
    "            self.sequence = self.sequence[-self.sequence_length:]\n",
    "\n",
    "        if len(self.sequence) == self.sequence_length:\n",
    "            processed = process_keypoints(np.array(self.sequence))\n",
    "            processed = np.expand_dims(processed, axis=0)\n",
    "\n",
    "            prediction = self.model.predict(processed, verbose=0)[0]\n",
    "            return CLASSES[np.argmax(prediction)], np.max(prediction)\n",
    "        \n",
    "        return \"\", 0\n",
    "\n",
    "    def __del__(self):\n",
    "        self.pose.close()"
   ]
  },
  {
   "cell_type": "code",
   "execution_count": null,
   "metadata": {},
   "outputs": [],
   "source": [
    "# Usage\n",
    "classifier = PoseClassifier('pose_model_large_dataset.keras')\n",
    "\n",
    "cap = cv2.VideoCapture(0)\n",
    "if not cap.isOpened():\n",
    "    print(\"Error: Could not open camera\")\n",
    "    exit()\n",
    "\n",
    "while cap.isOpened():\n",
    "    ret, frame = cap.read()\n",
    "    if not ret:\n",
    "        break\n",
    "    \n",
    "    pose_label, confidence = classifier.classify(frame)\n",
    "    \n",
    "    cv2.putText(frame, f\"{pose_label} ({confidence:.2f})\", \n",
    "               (10, 30), cv2.FONT_HERSHEY_SIMPLEX, 1, (0,255,0), 2)\n",
    "    cv2.imshow('Badminton Pose Classification', frame)\n",
    "    \n",
    "    if cv2.waitKey(1) & 0xFF == ord('q'):\n",
    "        break\n",
    "\n",
    "try:\n",
    "    cap.release()\n",
    "    cv2.destroyAllWindows()\n",
    "except Exception as e:\n",
    "    print(\"Cleanup error:\", e)\n",
    "\n"
   ]
  }
 ],
 "metadata": {
  "kernelspec": {
   "display_name": "Python 3",
   "language": "python",
   "name": "python3"
  },
  "language_info": {
   "codemirror_mode": {
    "name": "ipython",
    "version": 3
   },
   "file_extension": ".py",
   "mimetype": "text/x-python",
   "name": "python",
   "nbconvert_exporter": "python",
   "pygments_lexer": "ipython3",
   "version": "3.12.9"
  }
 },
 "nbformat": 4,
 "nbformat_minor": 2
}
