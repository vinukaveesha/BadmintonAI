{
 "cells": [
  {
   "cell_type": "code",
   "execution_count": 1,
   "metadata": {},
   "outputs": [
    {
     "name": "stderr",
     "output_type": "stream",
     "text": [
      "2025-04-06 21:32:42.561383: I tensorflow/core/platform/cpu_feature_guard.cc:210] This TensorFlow binary is optimized to use available CPU instructions in performance-critical operations.\n",
      "To enable the following instructions: AVX2 FMA, in other operations, rebuild TensorFlow with the appropriate compiler flags.\n"
     ]
    }
   ],
   "source": [
    "import os\n",
    "import cv2\n",
    "import numpy as np\n",
    "import mediapipe as mp\n",
    "import tensorflow as tf\n",
    "from sklearn.model_selection import train_test_split\n",
    "from tensorflow.keras.layers import LSTM, Dense, Dropout\n",
    "from tensorflow.keras.models import Sequential\n",
    "from tqdm import tqdm"
   ]
  },
  {
   "cell_type": "code",
   "execution_count": 2,
   "metadata": {},
   "outputs": [],
   "source": [
    "os.environ['TF_CPP_MIN_LOG_LEVEL'] = '2'  # Hide INFO/WARNING logs"
   ]
  },
  {
   "cell_type": "code",
   "execution_count": 3,
   "metadata": {},
   "outputs": [],
   "source": [
    "SEQUENCE_LENGTH = 15  # 0.5s clips at 30fps\n",
    "NUM_KEYPOINTS = 33    # MediaPipe pose points\n",
    "CLASSES = ['backhand_drive','backhand_net_shot', 'forehand_clear', 'forehand_drive', 'forehand_lift', 'forehand_net_shot']"
   ]
  },
  {
   "cell_type": "code",
   "execution_count": 4,
   "metadata": {},
   "outputs": [],
   "source": [
    "# Initialize MediaPipe Pose\n",
    "mp_pose = mp.solutions.pose"
   ]
  },
  {
   "cell_type": "code",
   "execution_count": 5,
   "metadata": {},
   "outputs": [],
   "source": [
    "def process_keypoints(keypoints):\n",
    "    \"\"\"Normalize keypoints relative to hip center\"\"\"\n",
    "    keypoints = np.array(keypoints)\n",
    "    \n",
    "    # Use hip (index 23) as reference point\n",
    "    hip_coords = keypoints[:, 23*3:23*3+2]\n",
    "    \n",
    "    # Normalize coordinates\n",
    "    keypoints[:, 0::3] -= hip_coords[:, 0:1]  # X\n",
    "    keypoints[:, 1::3] -= hip_coords[:, 1:2]  # Y\n",
    "    return keypoints"
   ]
  },
  {
   "cell_type": "code",
   "execution_count": 6,
   "metadata": {},
   "outputs": [],
   "source": [
    "def extract_keypoints(video_path):\n",
    "    \"\"\"Extract pose keypoints from video\"\"\"\n",
    "    cap = cv2.VideoCapture(video_path)\n",
    "    keypoint_sequence = []\n",
    "    \n",
    "    with mp_pose.Pose(\n",
    "        min_detection_confidence=0.5,\n",
    "        min_tracking_confidence=0.5) as pose:\n",
    "        \n",
    "        while cap.isOpened():\n",
    "            ret, frame = cap.read()\n",
    "            if not ret:\n",
    "                break\n",
    "                \n",
    "            # Process frame\n",
    "            frame_rgb = cv2.cvtColor(frame, cv2.COLOR_BGR2RGB)\n",
    "            results = pose.process(frame_rgb)\n",
    "            \n",
    "            if results.pose_landmarks:\n",
    "                kps = []\n",
    "                for landmark in results.pose_landmarks.landmark:\n",
    "                    kps.extend([landmark.x, landmark.y, landmark.visibility])\n",
    "                keypoint_sequence.append(kps)\n",
    "            else:\n",
    "                keypoint_sequence.append([0]*(NUM_KEYPOINTS*3))  # Zero-pad missing frames\n",
    "    \n",
    "    cap.release()\n",
    "    \n",
    "    # Normalize and align sequence\n",
    "    sequence = process_keypoints(keypoint_sequence)\n",
    "    return sequence[:SEQUENCE_LENGTH]"
   ]
  },
  {
   "cell_type": "code",
   "execution_count": 7,
   "metadata": {},
   "outputs": [],
   "source": [
    "def build_dataset(dataset_path):\n",
    "    \"\"\"Create dataset from video directory\"\"\"\n",
    "    X, y = [], []\n",
    "    \n",
    "    for class_idx, class_name in enumerate(CLASSES):\n",
    "        class_dir = os.path.join(dataset_path, class_name)\n",
    "        videos = os.listdir(class_dir)\n",
    "        \n",
    "        for video in tqdm(videos, desc=f'Processing {class_name}'):\n",
    "            video_path = os.path.join(class_dir, video)\n",
    "            sequence = extract_keypoints(video_path)\n",
    "            \n",
    "            if len(sequence) == SEQUENCE_LENGTH:\n",
    "                X.append(sequence)\n",
    "                y.append(class_idx)\n",
    "    \n",
    "    return np.array(X), np.array(y)"
   ]
  },
  {
   "cell_type": "code",
   "execution_count": 8,
   "metadata": {},
   "outputs": [],
   "source": [
    "# # Build dataset\n",
    "# X, y = build_dataset('/kaggle/input/video-dataset/vdataset')\n",
    "\n",
    "# # Train-test split\n",
    "# X_train, X_test, y_train, y_test = train_test_split(\n",
    "#     X, y, test_size=0.2, stratify=y)\n",
    "\n",
    "# # Convert labels to one-hot\n",
    "# y_train = tf.keras.utils.to_categorical(y_train)\n",
    "# y_test = tf.keras.utils.to_categorical(y_test)"
   ]
  },
  {
   "cell_type": "code",
   "execution_count": 9,
   "metadata": {},
   "outputs": [],
   "source": [
    "# # Build LSTM model\n",
    "# model = Sequential([\n",
    "#     LSTM(64, input_shape=(SEQUENCE_LENGTH, NUM_KEYPOINTS*3), return_sequences=True),\n",
    "#     Dropout(0.3),\n",
    "#     LSTM(32),\n",
    "#     Dense(32, activation='relu'),\n",
    "#     Dense(len(CLASSES), activation='softmax')\n",
    "# ])"
   ]
  },
  {
   "cell_type": "code",
   "execution_count": 10,
   "metadata": {},
   "outputs": [],
   "source": [
    "# model.compile(\n",
    "#     optimizer='adam',\n",
    "#     loss='categorical_crossentropy',\n",
    "#     metrics=['accuracy']\n",
    "# )"
   ]
  },
  {
   "cell_type": "code",
   "execution_count": 11,
   "metadata": {},
   "outputs": [],
   "source": [
    "# history = model.fit(\n",
    "#     X_train, y_train,\n",
    "#     validation_data=(X_test, y_test),\n",
    "#     epochs=20,\n",
    "#     batch_size=32,\n",
    "#     callbacks=[\n",
    "#         tf.keras.callbacks.EarlyStopping(patience=10, restore_best_weights=True),\n",
    "#         tf.keras.callbacks.ModelCheckpoint(\n",
    "#             'pose_model.keras',\n",
    "#             save_best_only=True,\n",
    "#             monitor='val_accuracy'\n",
    "#         )\n",
    "#     ]\n",
    "# )"
   ]
  },
  {
   "cell_type": "code",
   "execution_count": 12,
   "metadata": {},
   "outputs": [],
   "source": [
    "# # Evaluation\n",
    "# loss, accuracy = model.evaluate(X_test, y_test)\n",
    "# print(f\"Test Accuracy: {accuracy*100:.2f}%\")"
   ]
  },
  {
   "cell_type": "code",
   "execution_count": null,
   "metadata": {},
   "outputs": [
    {
     "ename": "",
     "evalue": "",
     "output_type": "error",
     "traceback": [
      "\u001b[1;31mThe Kernel crashed while executing code in the current cell or a previous cell. \n",
      "\u001b[1;31mPlease review the code in the cell(s) to identify a possible cause of the failure. \n",
      "\u001b[1;31mClick <a href='https://aka.ms/vscodeJupyterKernelCrash'>here</a> for more info. \n",
      "\u001b[1;31mView Jupyter <a href='command:jupyter.viewOutput'>log</a> for further details."
     ]
    }
   ],
   "source": [
    "class PoseClassifier:\n",
    "    def __init__(self, model_path, sequence_length=15):\n",
    "        self.model = tf.keras.models.load_model(model_path)\n",
    "        self.sequence = []\n",
    "        self.sequence_length = sequence_length\n",
    "        self.pose = mp_pose.Pose(\n",
    "            min_detection_confidence=0.5,\n",
    "            min_tracking_confidence=0.5\n",
    "        )  # Reuse Pose instance\n",
    "\n",
    "    def classify(self, frame):\n",
    "        frame_rgb = cv2.cvtColor(frame, cv2.COLOR_BGR2RGB)\n",
    "        results = self.pose.process(frame_rgb)\n",
    "        \n",
    "        with mp_pose.Pose() as pose:\n",
    "            results = pose.process(frame_rgb)\n",
    "            \n",
    "            if results.pose_landmarks:\n",
    "                kps = []\n",
    "                for landmark in results.pose_landmarks.landmark:\n",
    "                    kps.extend([landmark.x, landmark.y, landmark.visibility])\n",
    "                self.sequence.append(kps)\n",
    "            else:\n",
    "                self.sequence.append([0]*(NUM_KEYPOINTS*3))\n",
    "                \n",
    "            # Maintain fixed sequence length\n",
    "            if len(self.sequence) > self.sequence_length:\n",
    "                self.sequence = self.sequence[-self.sequence_length:]\n",
    "                \n",
    "            if len(self.sequence) == self.sequence_length:\n",
    "                processed = process_keypoints(np.array([self.sequence]))\n",
    "                prediction = self.model.predict(processed)[0]\n",
    "                return CLASSES[np.argmax(prediction)], np.max(prediction)\n",
    "            \n",
    "        return \"\", 0\n"
   ]
  },
  {
   "cell_type": "code",
   "execution_count": null,
   "metadata": {},
   "outputs": [],
   "source": [
    "# Usage\n",
    "classifier = PoseClassifier('pose_model.keras')\n",
    "\n",
    "cap = cv2.VideoCapture(0)\n",
    "if not cap.isOpened():\n",
    "    print(\"Error: Could not open camera\")\n",
    "    exit()\n",
    "\n",
    "while cap.isOpened():\n",
    "    ret, frame = cap.read()\n",
    "    if not ret:\n",
    "        break\n",
    "    \n",
    "    pose_label, confidence = classifier.classify(frame)\n",
    "    \n",
    "    cv2.putText(frame, f\"{pose_label} ({confidence:.2f})\", \n",
    "               (10, 30), cv2.FONT_HERSHEY_SIMPLEX, 1, (0,255,0), 2)\n",
    "    cv2.imshow('Badminton Pose Classification', frame)\n",
    "    \n",
    "    if cv2.waitKey(1) == ord('q'):\n",
    "        break\n",
    "\n",
    "cap.release()\n",
    "cv2.destroyAllWindows()\n"
   ]
  }
 ],
 "metadata": {
  "kernelspec": {
   "display_name": "Python 3",
   "language": "python",
   "name": "python3"
  },
  "language_info": {
   "codemirror_mode": {
    "name": "ipython",
    "version": 3
   },
   "file_extension": ".py",
   "mimetype": "text/x-python",
   "name": "python",
   "nbconvert_exporter": "python",
   "pygments_lexer": "ipython3",
   "version": "3.12.9"
  }
 },
 "nbformat": 4,
 "nbformat_minor": 2
}
